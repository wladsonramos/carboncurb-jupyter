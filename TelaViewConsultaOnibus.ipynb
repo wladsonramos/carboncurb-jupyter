{
 "cells": [
  {
   "cell_type": "code",
   "execution_count": 2,
   "id": "3672006f",
   "metadata": {},
   "outputs": [
    {
     "data": {
      "application/vnd.jupyter.widget-view+json": {
       "model_id": "5d2c2bd9052844f98ecde80140664ef8",
       "version_major": 2,
       "version_minor": 0
      },
      "text/plain": [
       "VBox(children=(HTML(value=\"<h2>Consulta à View 'transporte_onibus'</h2>\"), VBox(children=(Label(value='Nome do…"
      ]
     },
     "metadata": {},
     "output_type": "display_data"
    },
    {
     "name": "stdout",
     "output_type": "stream",
     "text": [
      "Conexão com o banco de dados estabelecida com sucesso.\n",
      "Transportes de Ônibus\n",
      "---------------------\n",
      "Nome\n",
      "---------------------\n",
      "Pedro\n",
      "---------------------\n"
     ]
    }
   ],
   "source": [
    "import psycopg2\n",
    "import ipywidgets as widgets\n",
    "from IPython.display import display\n",
    "\n",
    "# Função para obter a conexão com o banco de dados\n",
    "def conectar():\n",
    "    try:\n",
    "        conn = psycopg2.connect(\n",
    "            host=\"localhost\",\n",
    "            database=\"CarbonCurb\",\n",
    "            user=\"postgres\",\n",
    "            password=\"password\"\n",
    "        )\n",
    "        print(\"Conexão com o banco de dados estabelecida com sucesso.\")\n",
    "        return conn\n",
    "    except psycopg2.Error as e:\n",
    "        print(f\"Erro ao conectar ao banco de dados: {e}\")\n",
    "        return None\n",
    "\n",
    "# Função para consultar a view \"transporte_onibus\" por nome de funcionário\n",
    "def consultar_transportes_onibus_por_nome(nome):\n",
    "    conn = conectar()\n",
    "    if conn:\n",
    "        try:\n",
    "            cursor = conn.cursor()\n",
    "            cursor.execute(\"SELECT * FROM appcc.transporte_onibus WHERE pnome || ' ' || unome ILIKE %s\", ('%' + nome + '%',))\n",
    "            transportes = cursor.fetchall()\n",
    "            cursor.close()\n",
    "            return transportes\n",
    "        except psycopg2.Error as e:\n",
    "            print(f\"Erro ao consultar transportes de ônibus: {e}\")\n",
    "        finally:\n",
    "            conn.close()\n",
    "    return None\n",
    "\n",
    "# Função para exibir os resultados da consulta na tela\n",
    "def exibir_resultados(resultados):\n",
    "    if resultados:\n",
    "        print(\"Transportes de Ônibus\")\n",
    "        print(\"---------------------\")\n",
    "        print(\"Nome\")\n",
    "        print(\"---------------------\")\n",
    "        for resultado in resultados:\n",
    "            print(resultado[0])\n",
    "        print(\"---------------------\")\n",
    "    else:\n",
    "        print(\"Nenhum resultado encontrado.\")\n",
    "\n",
    "# Função para exibir o menu de consulta\n",
    "def exibir_menu_consulta():\n",
    "    # Função chamada ao selecionar a opção \"Consultar por Nome\"\n",
    "    def consultar_por_nome_callback(btn):\n",
    "        nome = input_nome.value.strip()\n",
    "        if nome:\n",
    "            resultados = consultar_transportes_onibus_por_nome(nome)\n",
    "            exibir_resultados(resultados)\n",
    "            input_nome.value = \"\"\n",
    "        else:\n",
    "            print(\"Digite o nome do funcionário.\")\n",
    "\n",
    "    menu_title = widgets.HTML(\"<h2>Consulta à View 'transporte_onibus'</h2>\")\n",
    "    menu_box = widgets.VBox()\n",
    "\n",
    "    nome_label = widgets.Label(\"Nome do Funcionário:\")\n",
    "    input_nome = widgets.Text()\n",
    "    consultar_button = widgets.Button(description=\"Consultar por Nome\")\n",
    "    consultar_button.on_click(consultar_por_nome_callback)\n",
    "    menu_box.children += (nome_label, input_nome, consultar_button)\n",
    "\n",
    "    menu_box_layout= widgets.Layout(align_items=\"flex-start\")\n",
    "    menu_box.layout = menu_box_layout\n",
    "\n",
    "    display(widgets.VBox([menu_title, menu_box]))\n",
    "\n",
    "# Executando o menu de consulta\n",
    "exibir_menu_consulta()\n"
   ]
  },
  {
   "cell_type": "code",
   "execution_count": null,
   "id": "28cc29de",
   "metadata": {},
   "outputs": [],
   "source": []
  }
 ],
 "metadata": {
  "kernelspec": {
   "display_name": "Python 3 (ipykernel)",
   "language": "python",
   "name": "python3"
  },
  "language_info": {
   "codemirror_mode": {
    "name": "ipython",
    "version": 3
   },
   "file_extension": ".py",
   "mimetype": "text/x-python",
   "name": "python",
   "nbconvert_exporter": "python",
   "pygments_lexer": "ipython3",
   "version": "3.10.9"
  }
 },
 "nbformat": 4,
 "nbformat_minor": 5
}
