{
 "cells": [
  {
   "cell_type": "code",
   "execution_count": 2,
   "id": "21672c8e",
   "metadata": {},
   "outputs": [
    {
     "data": {
      "application/vnd.jupyter.widget-view+json": {
       "model_id": "f7416cd2f89b42d685f06437774eb3dd",
       "version_major": 2,
       "version_minor": 0
      },
      "text/plain": [
       "VBox(children=(HTML(value='<h2>Menu Principal</h2>'), VBox(children=(HTML(value='<h3>Consultar Funcionários</h…"
      ]
     },
     "metadata": {},
     "output_type": "display_data"
    },
    {
     "name": "stdout",
     "output_type": "stream",
     "text": [
      "Conexão com o banco de dados estabelecida com sucesso.\n",
      "Funcionários\n",
      "-------------------------\n",
      "Nome\t\tCarbono Emitido\tRedução Emissão\n",
      "-----------------------------------------------\n",
      "Pedro Sousa\t4.77\t\t2.67\n",
      "-----------------------------------------------\n",
      "Conexão com o banco de dados estabelecida com sucesso.\n",
      "Funcionários\n",
      "-------------------------\n",
      "Nome\t\tCarbono Emitido\tRedução Emissão\n",
      "-----------------------------------------------\n",
      "Maria Ferreira\t2.63\t\t2.63\n",
      "-----------------------------------------------\n",
      "Conexão com o banco de dados estabelecida com sucesso.\n",
      "Funcionários\n",
      "-------------------------\n",
      "Nome\t\tCarbono Emitido\tRedução Emissão\n",
      "-----------------------------------------------\n",
      "João Silva\t3.64\t\t2.04\n",
      "-----------------------------------------------\n"
     ]
    }
   ],
   "source": [
    "import psycopg2\n",
    "import ipywidgets as widgets\n",
    "from IPython.display import display\n",
    "\n",
    "# Função para estabelecer a conexão com o banco de dados\n",
    "def conectar():\n",
    "    try:\n",
    "        conn = psycopg2.connect(\n",
    "            host=\"localhost\",\n",
    "            database=\"CarbonCurb\",\n",
    "            user=\"postgres\",\n",
    "            password=\"password\"\n",
    "        )\n",
    "        print(\"Conexão com o banco de dados estabelecida com sucesso.\")\n",
    "        return conn\n",
    "    except psycopg2.Error as e:\n",
    "        print(f\"Erro ao conectar ao banco de dados: {e}\")\n",
    "        return None\n",
    "\n",
    "# Função para consultar a view \"resumo_funcionarios\" no esquema \"appcc\"\n",
    "def consultar_resumo_funcionarios(nome_funcionario):\n",
    "    conn = conectar()\n",
    "    if conn:\n",
    "        try:\n",
    "            cursor = conn.cursor()\n",
    "            if nome_funcionario:\n",
    "                cursor.execute(\"SELECT * FROM appcc.resumo_funcionarios WHERE nome ILIKE %s\", (f\"%{nome_funcionario}%\",))\n",
    "            else:\n",
    "                cursor.execute(\"SELECT * FROM appcc.resumo_funcionarios\")\n",
    "            funcionarios = cursor.fetchall()\n",
    "            cursor.close()\n",
    "            return funcionarios\n",
    "        except psycopg2.Error as e:\n",
    "            print(f\"Erro ao consultar funcionários: {e}\")\n",
    "        finally:\n",
    "            conn.close()\n",
    "    return None\n",
    "\n",
    "# Função para exibir os funcionários na tela\n",
    "def exibir_funcionarios(funcionarios):\n",
    "    if funcionarios:\n",
    "        print(\"Funcionários\")\n",
    "        print(\"-------------------------\")\n",
    "        print(\"Nome\\t\\tCarbono Emitido\\tRedução Emissão\")\n",
    "        print(\"-----------------------------------------------\")\n",
    "        for funcionario in funcionarios:\n",
    "            print(f\"{funcionario[0]}\\t{funcionario[1]}\\t\\t{funcionario[2]}\")\n",
    "        print(\"-----------------------------------------------\")\n",
    "    else:\n",
    "        print(\"Nenhum funcionário encontrado.\")\n",
    "\n",
    "# Função para exibir o menu principal\n",
    "def exibir_menu():\n",
    "    # Função chamada ao selecionar a opção \"Consultar Funcionários\"\n",
    "    def consultar_funcionarios_callback(btn):\n",
    "        nome_funcionario = input_nome_funcionario.value.strip()\n",
    "        funcionarios = consultar_resumo_funcionarios(nome_funcionario)\n",
    "        exibir_funcionarios(funcionarios)\n",
    "\n",
    "    menu_title = widgets.HTML(\"<h2>Menu Principal</h2>\")\n",
    "    menu_box = widgets.VBox()\n",
    "\n",
    "    consultar_title = widgets.HTML(\"<h3>Consultar Funcionários</h3>\")\n",
    "    nome_label = widgets.Label(\"Nome do Funcionário:\")\n",
    "    input_nome_funcionario = widgets.Text()\n",
    "    consultar_button = widgets.Button(description=\"Consultar Funcionários\")\n",
    "    consultar_button.on_click(consultar_funcionarios_callback)\n",
    "    menu_box.children += (consultar_title, nome_label, input_nome_funcionario, consultar_button)\n",
    "\n",
    "    menu_box_layout= widgets.Layout(align_items=\"flex-start\")\n",
    "    menu_box.layout = menu_box_layout\n",
    "\n",
    "    display(widgets.VBox([menu_title, menu_box]))\n",
    "\n",
    "# Executando o menu principal\n",
    "exibir_menu()\n"
   ]
  },
  {
   "cell_type": "code",
   "execution_count": null,
   "id": "c016be96",
   "metadata": {},
   "outputs": [],
   "source": []
  }
 ],
 "metadata": {
  "kernelspec": {
   "display_name": "Python 3 (ipykernel)",
   "language": "python",
   "name": "python3"
  },
  "language_info": {
   "codemirror_mode": {
    "name": "ipython",
    "version": 3
   },
   "file_extension": ".py",
   "mimetype": "text/x-python",
   "name": "python",
   "nbconvert_exporter": "python",
   "pygments_lexer": "ipython3",
   "version": "3.10.9"
  }
 },
 "nbformat": 4,
 "nbformat_minor": 5
}
